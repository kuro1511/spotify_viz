{
 "cells": [
  {
   "cell_type": "code",
   "execution_count": 1,
   "metadata": {},
   "outputs": [],
   "source": [
    "import requests\n",
    "import base64\n",
    "import pandas as pd\n",
    "from urllib.parse import urlencode\n",
    "import webbrowser\n",
    "import numpy as np\n",
    "from datetime import datetime"
   ]
  },
  {
   "cell_type": "code",
   "execution_count": 208,
   "metadata": {},
   "outputs": [
    {
     "data": {
      "text/plain": [
       "True"
      ]
     },
     "execution_count": 208,
     "metadata": {},
     "output_type": "execute_result"
    }
   ],
   "source": [
    "#Replace these variables with your own credentials from the Spotify Developer Dashboard\n",
    "CLIENT_ID = ''\n",
    "CLIENT_SECRET = ''\n",
    "\n",
    "auth_headers = {\n",
    "    \"client_id\": CLIENT_ID,\n",
    "    \"response_type\": \"code\",\n",
    "    \"redirect_uri\": 'http://localhost:8888/callback',\n",
    "    \"scope\": \"user-top-read\"\n",
    "}\n",
    "webbrowser.open(\"https://accounts.spotify.com/authorize?\" + urlencode(auth_headers))"
   ]
  },
  {
   "cell_type": "code",
   "execution_count": 209,
   "metadata": {},
   "outputs": [],
   "source": [
    "#From the previous step (The url after \"code=\" after authorizing)\n",
    "auth_code = \"\""
   ]
  },
  {
   "cell_type": "code",
   "execution_count": 207,
   "metadata": {},
   "outputs": [],
   "source": [
    "# Base URL for Spotify API\n",
    "SPOTIFY_API_URL = 'https://api.spotify.com/v1/'\n",
    "\n",
    "# Function to authenticate with Spotify and get an access token\n",
    "def get_access_token(client_id, client_secret, auth_code):\n",
    "    encoded_client_credentials = base64.b64encode(f'{client_id}:{client_secret}'.encode()).decode()\n",
    "\n",
    "    headers = {\n",
    "        'Authorization': f'Basic {encoded_client_credentials}',\n",
    "    }\n",
    "\n",
    "    # Parameters for the token request\n",
    "    data = {\n",
    "        'grant_type': 'authorization_code',\n",
    "        'code': auth_code,\n",
    "        \"redirect_uri\": 'http://localhost:8888/callback' #Not important for our use case\n",
    "    }\n",
    "\n",
    "    response = requests.post('https://accounts.spotify.com/api/token', headers=headers, data=data)\n",
    "    if response.status_code == 200:\n",
    "        return response.json()['access_token']\n",
    "    else:\n",
    "        print(f'Failed to get access token. Error {response.status_code}')\n",
    "        return None\n",
    "    \n",
    "# Function to make a GET request to the Spotify API\n",
    "def get_spotify_data(endpoint, access_token, params=None):\n",
    "    headers = {\n",
    "        'Authorization': f'Bearer {access_token}'\n",
    "    }\n",
    "\n",
    "    response = requests.get(SPOTIFY_API_URL + endpoint, headers=headers, params=params)\n",
    "\n",
    "    if response.status_code == 200:\n",
    "        return response.json()\n",
    "    else:\n",
    "        print(f'Failed to retrieve data from the Spotify API. Error {response.status_code}')\n",
    "        return None\n",
    "\n",
    "# Function to get user's top tracks\n",
    "def get_user_top(access_token, time_range='medium_term', limit=10, track = True):\n",
    "    if track:\n",
    "        endpoint = 'me/top/tracks'\n",
    "    else:\n",
    "        endpoint = 'me/top/artists'\n",
    "    params = {\n",
    "        'time_range': time_range,  # Change to 'long_term' or 'short_term' for different time ranges\n",
    "        'limit': limit,            # Change the number to get more or fewer results\n",
    "    }\n",
    "    return get_spotify_data(endpoint, access_token, params)\n",
    "\n",
    "# Function to get top tracks or artists in  the long_term, medium_term, short_term and return as a csv file\n",
    "def get_top_to_csv(access_token, time_range='medium_term', limit=50, track=True):\n",
    "\tif track:\n",
    "\t\ttop_tracks = get_user_top(access_token, time_range=time_range, limit=limit, track=track)\n",
    "\t\tdf_track = pd.DataFrame(top_tracks['items']) \n",
    "\t\tdf_track['release_date'] = df_track.loc[:, 'album'].apply(lambda x: pd.to_datetime(x['release_date']).year)\n",
    "\t\tdf_track['image_link'] = df_track.loc[:, 'album'].apply(lambda x: x['images'][1]['url'])\n",
    "\t\tdf_track['artist_name'] = df_track.loc[:, 'artists'].apply(lambda x: x[0]['name'])\n",
    "\t\tdf_track.drop(labels=['album',\n",
    "\t\t\t\t'artists',\n",
    "\t\t\t\t'available_markets',\n",
    "\t\t\t\t'disc_number',\n",
    "\t\t\t\t'duration_ms',\n",
    "\t\t\t\t'explicit',\n",
    "\t\t\t\t'external_ids',\n",
    "\t\t\t\t'external_urls',\n",
    "\t\t\t\t'href',\n",
    "\t\t\t\t'is_local',\n",
    "\t\t\t\t'preview_url',\n",
    "\t\t\t\t'track_number',\n",
    "\t\t\t\t'type',\n",
    "\t\t\t\t'uri'], axis = 1, inplace=True)\n",
    "\t\tdf_track['ranking']= np.arange(1,51)\n",
    "\t\tdf_track.to_csv(f'top{limit}_tracks_{time_range}.csv', index=False, encoding = 'utf-8-sig')\n",
    "\t\treturn f'Retrieved top {limit} tracks in the {time_range}'\n",
    "\telse:\n",
    "\t\ttop_artists = get_user_top(access_token, time_range=time_range, limit=limit, track=track)\n",
    "\t\tdf_artist = pd.DataFrame(top_artists['items'])\n",
    "\t\tdf_artist['ranking']= np.arange(1,51)\n",
    "\t\tdf_artist.drop(labels=['external_urls',\n",
    "            'followers',\n",
    "            'href',\n",
    "            'images',\n",
    "            'type',\n",
    "            'uri'], axis= 1, inplace=True)\n",
    "\t\tdf_artist.to_csv(f'top{limit}_artist_{time_range}.csv', index=False, encoding = 'utf-8-sig')\n",
    "\t\treturn f'Retrieved top {limit} artists in the {time_range}'"
   ]
  },
  {
   "cell_type": "code",
   "execution_count": 212,
   "metadata": {},
   "outputs": [],
   "source": [
    "access_token = get_access_token(CLIENT_ID, CLIENT_SECRET, auth_code)\n",
    "time_range = ['long_term', 'medium_term', 'short_term']\n",
    "for tr in time_range:\n",
    "    get_top_to_csv(access_token, time_range=tr, limit = 50, track = True)\n",
    "    get_top_to_csv(access_token, time_range=tr, limit = 50, track = False)"
   ]
  }
 ],
 "metadata": {
  "kernelspec": {
   "display_name": "Python 3",
   "language": "python",
   "name": "python3"
  },
  "language_info": {
   "codemirror_mode": {
    "name": "ipython",
    "version": 3
   },
   "file_extension": ".py",
   "mimetype": "text/x-python",
   "name": "python",
   "nbconvert_exporter": "python",
   "pygments_lexer": "ipython3",
   "version": "3.8.16"
  },
  "orig_nbformat": 4
 },
 "nbformat": 4,
 "nbformat_minor": 2
}
